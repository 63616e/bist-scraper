{
 "cells": [
  {
   "cell_type": "code",
   "execution_count": 150,
   "metadata": {},
   "outputs": [
    {
     "data": {
      "text/plain": [
       "('pay.zip', <http.client.HTTPMessage at 0x7fcac4c817c0>)"
      ]
     },
     "execution_count": 150,
     "metadata": {},
     "output_type": "execute_result"
    }
   ],
   "source": [
    "import urllib\n",
    "import zipfile \n",
    "import pandas as pd\n",
    "\n",
    "\n",
    "url = 'https://www.borsaistanbul.com/datum/PayEndeksleri.zip'\n",
    "\n",
    "urllib.request.urlretrieve(url,\"pay.zip\")\n",
    "# unzip the zip \n"
   ]
  },
  {
   "cell_type": "code",
   "execution_count": 151,
   "metadata": {},
   "outputs": [
    {
     "ename": "BadZipFile",
     "evalue": "File is not a zip file",
     "output_type": "error",
     "traceback": [
      "\u001b[0;31m---------------------------------------------------------------------------\u001b[0m",
      "\u001b[0;31mBadZipFile\u001b[0m                                Traceback (most recent call last)",
      "\u001b[1;32m/Users/hakancangunerli/Desktop/bist-scraper/Untitled-1.ipynb Cell 2\u001b[0m in \u001b[0;36m<cell line: 2>\u001b[0;34m()\u001b[0m\n\u001b[1;32m      <a href='vscode-notebook-cell:/Users/hakancangunerli/Desktop/bist-scraper/Untitled-1.ipynb#W1sZmlsZQ%3D%3D?line=0'>1</a>\u001b[0m \u001b[39m# unzip the pay.zip\u001b[39;00m\n\u001b[0;32m----> <a href='vscode-notebook-cell:/Users/hakancangunerli/Desktop/bist-scraper/Untitled-1.ipynb#W1sZmlsZQ%3D%3D?line=1'>2</a>\u001b[0m \u001b[39mwith\u001b[39;00m zipfile\u001b[39m.\u001b[39;49mZipFile(\u001b[39m'\u001b[39;49m\u001b[39m./pay.zip\u001b[39;49m\u001b[39m'\u001b[39;49m, \u001b[39m'\u001b[39;49m\u001b[39mr\u001b[39;49m\u001b[39m'\u001b[39;49m) \u001b[39mas\u001b[39;00m zip_ref:\n\u001b[1;32m      <a href='vscode-notebook-cell:/Users/hakancangunerli/Desktop/bist-scraper/Untitled-1.ipynb#W1sZmlsZQ%3D%3D?line=2'>3</a>\u001b[0m     zip_ref\u001b[39m.\u001b[39mextractall(\u001b[39m'\u001b[39m\u001b[39m./outputs\u001b[39m\u001b[39m'\u001b[39m)\n",
      "File \u001b[0;32m~/opt/anaconda3/lib/python3.9/zipfile.py:1257\u001b[0m, in \u001b[0;36mZipFile.__init__\u001b[0;34m(self, file, mode, compression, allowZip64, compresslevel, strict_timestamps)\u001b[0m\n\u001b[1;32m   1255\u001b[0m \u001b[39mtry\u001b[39;00m:\n\u001b[1;32m   1256\u001b[0m     \u001b[39mif\u001b[39;00m mode \u001b[39m==\u001b[39m \u001b[39m'\u001b[39m\u001b[39mr\u001b[39m\u001b[39m'\u001b[39m:\n\u001b[0;32m-> 1257\u001b[0m         \u001b[39mself\u001b[39;49m\u001b[39m.\u001b[39;49m_RealGetContents()\n\u001b[1;32m   1258\u001b[0m     \u001b[39melif\u001b[39;00m mode \u001b[39min\u001b[39;00m (\u001b[39m'\u001b[39m\u001b[39mw\u001b[39m\u001b[39m'\u001b[39m, \u001b[39m'\u001b[39m\u001b[39mx\u001b[39m\u001b[39m'\u001b[39m):\n\u001b[1;32m   1259\u001b[0m         \u001b[39m# set the modified flag so central directory gets written\u001b[39;00m\n\u001b[1;32m   1260\u001b[0m         \u001b[39m# even if no files are added to the archive\u001b[39;00m\n\u001b[1;32m   1261\u001b[0m         \u001b[39mself\u001b[39m\u001b[39m.\u001b[39m_didModify \u001b[39m=\u001b[39m \u001b[39mTrue\u001b[39;00m\n",
      "File \u001b[0;32m~/opt/anaconda3/lib/python3.9/zipfile.py:1324\u001b[0m, in \u001b[0;36mZipFile._RealGetContents\u001b[0;34m(self)\u001b[0m\n\u001b[1;32m   1322\u001b[0m     \u001b[39mraise\u001b[39;00m BadZipFile(\u001b[39m\"\u001b[39m\u001b[39mFile is not a zip file\u001b[39m\u001b[39m\"\u001b[39m)\n\u001b[1;32m   1323\u001b[0m \u001b[39mif\u001b[39;00m \u001b[39mnot\u001b[39;00m endrec:\n\u001b[0;32m-> 1324\u001b[0m     \u001b[39mraise\u001b[39;00m BadZipFile(\u001b[39m\"\u001b[39m\u001b[39mFile is not a zip file\u001b[39m\u001b[39m\"\u001b[39m)\n\u001b[1;32m   1325\u001b[0m \u001b[39mif\u001b[39;00m \u001b[39mself\u001b[39m\u001b[39m.\u001b[39mdebug \u001b[39m>\u001b[39m \u001b[39m1\u001b[39m:\n\u001b[1;32m   1326\u001b[0m     \u001b[39mprint\u001b[39m(endrec)\n",
      "\u001b[0;31mBadZipFile\u001b[0m: File is not a zip file"
     ]
    }
   ],
   "source": [
    "# unzip the pay.zip\n",
    "with zipfile.ZipFile('./pay.zip', 'r') as zip_ref:\n",
    "    zip_ref.extractall('./outputs')"
   ]
  },
  {
   "cell_type": "code",
   "execution_count": null,
   "metadata": {},
   "outputs": [],
   "source": [
    "df = pd.read_csv('./outputs/FiyatEndeksleri_PriceIndices.csv', sep=';')"
   ]
  },
  {
   "cell_type": "code",
   "execution_count": null,
   "metadata": {},
   "outputs": [
    {
     "data": {
      "text/html": [
       "<div>\n",
       "<style scoped>\n",
       "    .dataframe tbody tr th:only-of-type {\n",
       "        vertical-align: middle;\n",
       "    }\n",
       "\n",
       "    .dataframe tbody tr th {\n",
       "        vertical-align: top;\n",
       "    }\n",
       "\n",
       "    .dataframe thead th {\n",
       "        text-align: right;\n",
       "    }\n",
       "</style>\n",
       "<table border=\"1\" class=\"dataframe\">\n",
       "  <thead>\n",
       "    <tr style=\"text-align: right;\">\n",
       "      <th></th>\n",
       "      <th>KAYIT SIRA</th>\n",
       "      <th>ENDEKS KODU</th>\n",
       "      <th>ENDEKSLER</th>\n",
       "      <th>ENDEKSLERIN INGILIZCE ISIMLERI</th>\n",
       "      <th>KUR TURU</th>\n",
       "      <th>TARIH</th>\n",
       "      <th>KAPANIS</th>\n",
       "      <th>ACILIS</th>\n",
       "      <th>EN DUSUK</th>\n",
       "      <th>EN YUKSEK</th>\n",
       "    </tr>\n",
       "  </thead>\n",
       "  <tbody>\n",
       "    <tr>\n",
       "      <th>0</th>\n",
       "      <td>ORDER</td>\n",
       "      <td>INDEX CODE</td>\n",
       "      <td>INDEX NAMES IN TURKISH</td>\n",
       "      <td>INDICES</td>\n",
       "      <td>CURRENCY TYPE</td>\n",
       "      <td>DATE</td>\n",
       "      <td>CLOSING VALUE</td>\n",
       "      <td>OPEN VALUE</td>\n",
       "      <td>LOWEST VALUE</td>\n",
       "      <td>HIGHEST VALUE</td>\n",
       "    </tr>\n",
       "    <tr>\n",
       "      <th>1</th>\n",
       "      <td>1</td>\n",
       "      <td>XU100</td>\n",
       "      <td>BIST 100</td>\n",
       "      <td>BIST 100</td>\n",
       "      <td>TRY</td>\n",
       "      <td>13/10/2022</td>\n",
       "      <td>3553.43</td>\n",
       "      <td>3529.78</td>\n",
       "      <td>3521.6</td>\n",
       "      <td>3577.79</td>\n",
       "    </tr>\n",
       "    <tr>\n",
       "      <th>2</th>\n",
       "      <td>2</td>\n",
       "      <td>XU100_CFNPTLUS</td>\n",
       "      <td>BIST 100 (ABD DOLARI)</td>\n",
       "      <td>BIST 100 (USD)</td>\n",
       "      <td>USD</td>\n",
       "      <td>13/10/2022</td>\n",
       "      <td>1113.77</td>\n",
       "      <td>1113.77</td>\n",
       "      <td>1113.77</td>\n",
       "      <td>1113.77</td>\n",
       "    </tr>\n",
       "    <tr>\n",
       "      <th>3</th>\n",
       "      <td>3</td>\n",
       "      <td>XU100_CFNPTLER</td>\n",
       "      <td>BIST 100 (EURO)</td>\n",
       "      <td>BIST 100 (EURO)</td>\n",
       "      <td>EUR</td>\n",
       "      <td>13/10/2022</td>\n",
       "      <td>1343.32</td>\n",
       "      <td>1343.32</td>\n",
       "      <td>1343.32</td>\n",
       "      <td>1343.32</td>\n",
       "    </tr>\n",
       "    <tr>\n",
       "      <th>4</th>\n",
       "      <td>4</td>\n",
       "      <td>XU050</td>\n",
       "      <td>BIST 50</td>\n",
       "      <td>BIST 50</td>\n",
       "      <td>TRY</td>\n",
       "      <td>13/10/2022</td>\n",
       "      <td>3148.7</td>\n",
       "      <td>3129.39</td>\n",
       "      <td>3116.69</td>\n",
       "      <td>3169.61</td>\n",
       "    </tr>\n",
       "  </tbody>\n",
       "</table>\n",
       "</div>"
      ],
      "text/plain": [
       "  KAYIT SIRA     ENDEKS KODU               ENDEKSLER  \\\n",
       "0      ORDER      INDEX CODE  INDEX NAMES IN TURKISH   \n",
       "1          1           XU100                BIST 100   \n",
       "2          2  XU100_CFNPTLUS   BIST 100 (ABD DOLARI)   \n",
       "3          3  XU100_CFNPTLER         BIST 100 (EURO)   \n",
       "4          4           XU050                 BIST 50   \n",
       "\n",
       "  ENDEKSLERIN INGILIZCE ISIMLERI       KUR TURU       TARIH        KAPANIS  \\\n",
       "0                        INDICES  CURRENCY TYPE        DATE  CLOSING VALUE   \n",
       "1                       BIST 100            TRY  13/10/2022        3553.43   \n",
       "2                 BIST 100 (USD)            USD  13/10/2022        1113.77   \n",
       "3                BIST 100 (EURO)            EUR  13/10/2022        1343.32   \n",
       "4                        BIST 50            TRY  13/10/2022         3148.7   \n",
       "\n",
       "       ACILIS      EN DUSUK      EN YUKSEK  \n",
       "0  OPEN VALUE  LOWEST VALUE  HIGHEST VALUE  \n",
       "1     3529.78        3521.6        3577.79  \n",
       "2     1113.77       1113.77        1113.77  \n",
       "3     1343.32       1343.32        1343.32  \n",
       "4     3129.39       3116.69        3169.61  "
      ]
     },
     "execution_count": 132,
     "metadata": {},
     "output_type": "execute_result"
    }
   ],
   "source": [
    "df.head(5)"
   ]
  },
  {
   "cell_type": "code",
   "execution_count": null,
   "metadata": {},
   "outputs": [],
   "source": [
    "df= df.filter(['ENDEKS KODU','ACILIS', 'KAPANIS', 'EN YUKSEK', 'EN DUSUK'])\n",
    "df= df.drop([0])"
   ]
  },
  {
   "cell_type": "code",
   "execution_count": null,
   "metadata": {},
   "outputs": [
    {
     "data": {
      "application/vnd.plotly.v1+json": {
       "config": {
        "plotlyServerURL": "https://plot.ly"
       },
       "data": [
        {
         "alignmentgroup": "True",
         "hovertemplate": "ACILIS=%{x}<extra></extra>",
         "legendgroup": "",
         "marker": {
          "color": "#636efa"
         },
         "name": "",
         "notched": false,
         "offsetgroup": "",
         "orientation": "h",
         "showlegend": false,
         "type": "box",
         "x": [
          "3529.78",
          "1113.77",
          "1343.32",
          "3129.39",
          "986.91",
          "1190.32",
          "3854.39",
          "1217.32",
          "1468.22",
          "2977.61",
          "935.87",
          "1128.76",
          "4801.28",
          "1518.62",
          "1831.62",
          "3905.57",
          "1230.52",
          "1484.13",
          "3043.12",
          "958.41",
          "1155.95",
          "3031.66",
          "954.95",
          "1151.77",
          "3041.97",
          "958.05",
          "1155.51",
          "6362.59",
          "2001.74",
          "2414.3",
          "10219.72",
          "3213.86",
          "3876.25",
          "3534.02",
          "1113.99",
          "1343.59",
          "3533.3",
          "1113.77",
          "1343.32",
          "3935.1",
          "1241.28",
          "1497.11",
          "3859.14",
          "1217.32",
          "1468.22",
          "3690.34",
          "1163.44",
          "1403.23",
          "9838.03",
          "3081.51",
          "3716.62",
          "30569.4",
          "9651.29",
          "11640.47",
          "6451.57",
          "2026.09",
          "2443.68",
          "3353.66",
          "1050.6",
          "1267.14",
          "4291.76",
          "1347.14",
          "1624.79",
          "3451.41",
          "1089.32",
          "1313.84",
          "3608.84",
          "1139.34",
          "1374.16",
          "3692.3",
          "1167.42",
          "1408.03",
          "3694.45",
          "1171.42",
          "1412.85",
          "3577.48",
          "1126.53",
          "1358.71",
          "2966.21",
          "930.41",
          "1122.17",
          "4113.44",
          "1292.6",
          "1559.01",
          "5718.42",
          "1797.57",
          "2168.06",
          "3727.06",
          "1157.79",
          "1396.41",
          "6694.67",
          "2123.54",
          "2561.21",
          "2901.94",
          "891.31",
          "1075.02",
          "8607.69",
          "2684.18",
          "3237.4",
          "7434.58",
          "2338.81",
          "2820.85",
          "3330.74",
          "1070.77",
          "1291.46",
          "3488.01",
          "1082.14",
          "1305.17",
          "2020.88",
          "636.48",
          "767.66",
          "3007.34",
          "950.98",
          "1146.99",
          "312.72",
          "99.74",
          "120.3",
          "605.64",
          "185.46",
          "223.69",
          "3860.32",
          "1205.84",
          "1454.37",
          "1495.88",
          "466.44",
          "562.58",
          "6626.6",
          "2089.92",
          "2520.67",
          "563.64",
          "179.33",
          "216.29",
          "9294.74",
          "2990.58",
          "3606.96",
          "3406.67",
          "1074.5",
          "1295.96",
          "3303.19",
          "1037.67",
          "1251.54",
          "7376.6",
          "2298.05",
          "2771.68",
          "1639.52",
          "529.72",
          "638.9",
          "3198.99",
          "1013.13",
          "1221.94",
          "1222.15",
          "385.06",
          "464.42",
          "13498.85",
          "4228.31",
          "5099.79",
          "1279.16",
          "398.43",
          "480.55",
          "3585.87",
          "1119.11",
          "1349.76",
          "5471.38",
          "1721.52",
          "2076.33",
          "1584.4",
          "501.22",
          "604.53",
          "64316.01",
          "21473.87",
          "25899.74",
          "4029.16",
          "1253.84",
          "1512.26",
          "6332.21",
          "2010.55",
          "2424.94",
          "2095.3",
          "666.17",
          "803.48",
          "5552.44",
          "1736.79",
          "2094.75",
          "7807.5",
          "2423.68",
          "2923.21",
          "5020.86",
          "1560.4",
          "1882.01",
          "4089.05",
          "1291.21",
          "1557.33",
          "7027.57",
          "2203.43",
          "2657.57",
          "18778.07",
          "5828.8",
          "7030.14",
          "11127.12",
          "3489.84",
          "4209.12",
          "4767.04",
          "1517.05",
          "1829.72",
          "1972.06",
          "624.22",
          "752.87",
          "20419.94",
          "6406.04",
          "7726.36"
         ],
         "x0": " ",
         "xaxis": "x",
         "y0": " ",
         "yaxis": "y"
        }
       ],
       "layout": {
        "boxmode": "group",
        "legend": {
         "tracegroupgap": 0
        },
        "margin": {
         "t": 60
        },
        "template": {
         "data": {
          "bar": [
           {
            "error_x": {
             "color": "#2a3f5f"
            },
            "error_y": {
             "color": "#2a3f5f"
            },
            "marker": {
             "line": {
              "color": "#E5ECF6",
              "width": 0.5
             },
             "pattern": {
              "fillmode": "overlay",
              "size": 10,
              "solidity": 0.2
             }
            },
            "type": "bar"
           }
          ],
          "barpolar": [
           {
            "marker": {
             "line": {
              "color": "#E5ECF6",
              "width": 0.5
             },
             "pattern": {
              "fillmode": "overlay",
              "size": 10,
              "solidity": 0.2
             }
            },
            "type": "barpolar"
           }
          ],
          "carpet": [
           {
            "aaxis": {
             "endlinecolor": "#2a3f5f",
             "gridcolor": "white",
             "linecolor": "white",
             "minorgridcolor": "white",
             "startlinecolor": "#2a3f5f"
            },
            "baxis": {
             "endlinecolor": "#2a3f5f",
             "gridcolor": "white",
             "linecolor": "white",
             "minorgridcolor": "white",
             "startlinecolor": "#2a3f5f"
            },
            "type": "carpet"
           }
          ],
          "choropleth": [
           {
            "colorbar": {
             "outlinewidth": 0,
             "ticks": ""
            },
            "type": "choropleth"
           }
          ],
          "contour": [
           {
            "colorbar": {
             "outlinewidth": 0,
             "ticks": ""
            },
            "colorscale": [
             [
              0,
              "#0d0887"
             ],
             [
              0.1111111111111111,
              "#46039f"
             ],
             [
              0.2222222222222222,
              "#7201a8"
             ],
             [
              0.3333333333333333,
              "#9c179e"
             ],
             [
              0.4444444444444444,
              "#bd3786"
             ],
             [
              0.5555555555555556,
              "#d8576b"
             ],
             [
              0.6666666666666666,
              "#ed7953"
             ],
             [
              0.7777777777777778,
              "#fb9f3a"
             ],
             [
              0.8888888888888888,
              "#fdca26"
             ],
             [
              1,
              "#f0f921"
             ]
            ],
            "type": "contour"
           }
          ],
          "contourcarpet": [
           {
            "colorbar": {
             "outlinewidth": 0,
             "ticks": ""
            },
            "type": "contourcarpet"
           }
          ],
          "heatmap": [
           {
            "colorbar": {
             "outlinewidth": 0,
             "ticks": ""
            },
            "colorscale": [
             [
              0,
              "#0d0887"
             ],
             [
              0.1111111111111111,
              "#46039f"
             ],
             [
              0.2222222222222222,
              "#7201a8"
             ],
             [
              0.3333333333333333,
              "#9c179e"
             ],
             [
              0.4444444444444444,
              "#bd3786"
             ],
             [
              0.5555555555555556,
              "#d8576b"
             ],
             [
              0.6666666666666666,
              "#ed7953"
             ],
             [
              0.7777777777777778,
              "#fb9f3a"
             ],
             [
              0.8888888888888888,
              "#fdca26"
             ],
             [
              1,
              "#f0f921"
             ]
            ],
            "type": "heatmap"
           }
          ],
          "heatmapgl": [
           {
            "colorbar": {
             "outlinewidth": 0,
             "ticks": ""
            },
            "colorscale": [
             [
              0,
              "#0d0887"
             ],
             [
              0.1111111111111111,
              "#46039f"
             ],
             [
              0.2222222222222222,
              "#7201a8"
             ],
             [
              0.3333333333333333,
              "#9c179e"
             ],
             [
              0.4444444444444444,
              "#bd3786"
             ],
             [
              0.5555555555555556,
              "#d8576b"
             ],
             [
              0.6666666666666666,
              "#ed7953"
             ],
             [
              0.7777777777777778,
              "#fb9f3a"
             ],
             [
              0.8888888888888888,
              "#fdca26"
             ],
             [
              1,
              "#f0f921"
             ]
            ],
            "type": "heatmapgl"
           }
          ],
          "histogram": [
           {
            "marker": {
             "pattern": {
              "fillmode": "overlay",
              "size": 10,
              "solidity": 0.2
             }
            },
            "type": "histogram"
           }
          ],
          "histogram2d": [
           {
            "colorbar": {
             "outlinewidth": 0,
             "ticks": ""
            },
            "colorscale": [
             [
              0,
              "#0d0887"
             ],
             [
              0.1111111111111111,
              "#46039f"
             ],
             [
              0.2222222222222222,
              "#7201a8"
             ],
             [
              0.3333333333333333,
              "#9c179e"
             ],
             [
              0.4444444444444444,
              "#bd3786"
             ],
             [
              0.5555555555555556,
              "#d8576b"
             ],
             [
              0.6666666666666666,
              "#ed7953"
             ],
             [
              0.7777777777777778,
              "#fb9f3a"
             ],
             [
              0.8888888888888888,
              "#fdca26"
             ],
             [
              1,
              "#f0f921"
             ]
            ],
            "type": "histogram2d"
           }
          ],
          "histogram2dcontour": [
           {
            "colorbar": {
             "outlinewidth": 0,
             "ticks": ""
            },
            "colorscale": [
             [
              0,
              "#0d0887"
             ],
             [
              0.1111111111111111,
              "#46039f"
             ],
             [
              0.2222222222222222,
              "#7201a8"
             ],
             [
              0.3333333333333333,
              "#9c179e"
             ],
             [
              0.4444444444444444,
              "#bd3786"
             ],
             [
              0.5555555555555556,
              "#d8576b"
             ],
             [
              0.6666666666666666,
              "#ed7953"
             ],
             [
              0.7777777777777778,
              "#fb9f3a"
             ],
             [
              0.8888888888888888,
              "#fdca26"
             ],
             [
              1,
              "#f0f921"
             ]
            ],
            "type": "histogram2dcontour"
           }
          ],
          "mesh3d": [
           {
            "colorbar": {
             "outlinewidth": 0,
             "ticks": ""
            },
            "type": "mesh3d"
           }
          ],
          "parcoords": [
           {
            "line": {
             "colorbar": {
              "outlinewidth": 0,
              "ticks": ""
             }
            },
            "type": "parcoords"
           }
          ],
          "pie": [
           {
            "automargin": true,
            "type": "pie"
           }
          ],
          "scatter": [
           {
            "marker": {
             "colorbar": {
              "outlinewidth": 0,
              "ticks": ""
             }
            },
            "type": "scatter"
           }
          ],
          "scatter3d": [
           {
            "line": {
             "colorbar": {
              "outlinewidth": 0,
              "ticks": ""
             }
            },
            "marker": {
             "colorbar": {
              "outlinewidth": 0,
              "ticks": ""
             }
            },
            "type": "scatter3d"
           }
          ],
          "scattercarpet": [
           {
            "marker": {
             "colorbar": {
              "outlinewidth": 0,
              "ticks": ""
             }
            },
            "type": "scattercarpet"
           }
          ],
          "scattergeo": [
           {
            "marker": {
             "colorbar": {
              "outlinewidth": 0,
              "ticks": ""
             }
            },
            "type": "scattergeo"
           }
          ],
          "scattergl": [
           {
            "marker": {
             "colorbar": {
              "outlinewidth": 0,
              "ticks": ""
             }
            },
            "type": "scattergl"
           }
          ],
          "scattermapbox": [
           {
            "marker": {
             "colorbar": {
              "outlinewidth": 0,
              "ticks": ""
             }
            },
            "type": "scattermapbox"
           }
          ],
          "scatterpolar": [
           {
            "marker": {
             "colorbar": {
              "outlinewidth": 0,
              "ticks": ""
             }
            },
            "type": "scatterpolar"
           }
          ],
          "scatterpolargl": [
           {
            "marker": {
             "colorbar": {
              "outlinewidth": 0,
              "ticks": ""
             }
            },
            "type": "scatterpolargl"
           }
          ],
          "scatterternary": [
           {
            "marker": {
             "colorbar": {
              "outlinewidth": 0,
              "ticks": ""
             }
            },
            "type": "scatterternary"
           }
          ],
          "surface": [
           {
            "colorbar": {
             "outlinewidth": 0,
             "ticks": ""
            },
            "colorscale": [
             [
              0,
              "#0d0887"
             ],
             [
              0.1111111111111111,
              "#46039f"
             ],
             [
              0.2222222222222222,
              "#7201a8"
             ],
             [
              0.3333333333333333,
              "#9c179e"
             ],
             [
              0.4444444444444444,
              "#bd3786"
             ],
             [
              0.5555555555555556,
              "#d8576b"
             ],
             [
              0.6666666666666666,
              "#ed7953"
             ],
             [
              0.7777777777777778,
              "#fb9f3a"
             ],
             [
              0.8888888888888888,
              "#fdca26"
             ],
             [
              1,
              "#f0f921"
             ]
            ],
            "type": "surface"
           }
          ],
          "table": [
           {
            "cells": {
             "fill": {
              "color": "#EBF0F8"
             },
             "line": {
              "color": "white"
             }
            },
            "header": {
             "fill": {
              "color": "#C8D4E3"
             },
             "line": {
              "color": "white"
             }
            },
            "type": "table"
           }
          ]
         },
         "layout": {
          "annotationdefaults": {
           "arrowcolor": "#2a3f5f",
           "arrowhead": 0,
           "arrowwidth": 1
          },
          "autotypenumbers": "strict",
          "coloraxis": {
           "colorbar": {
            "outlinewidth": 0,
            "ticks": ""
           }
          },
          "colorscale": {
           "diverging": [
            [
             0,
             "#8e0152"
            ],
            [
             0.1,
             "#c51b7d"
            ],
            [
             0.2,
             "#de77ae"
            ],
            [
             0.3,
             "#f1b6da"
            ],
            [
             0.4,
             "#fde0ef"
            ],
            [
             0.5,
             "#f7f7f7"
            ],
            [
             0.6,
             "#e6f5d0"
            ],
            [
             0.7,
             "#b8e186"
            ],
            [
             0.8,
             "#7fbc41"
            ],
            [
             0.9,
             "#4d9221"
            ],
            [
             1,
             "#276419"
            ]
           ],
           "sequential": [
            [
             0,
             "#0d0887"
            ],
            [
             0.1111111111111111,
             "#46039f"
            ],
            [
             0.2222222222222222,
             "#7201a8"
            ],
            [
             0.3333333333333333,
             "#9c179e"
            ],
            [
             0.4444444444444444,
             "#bd3786"
            ],
            [
             0.5555555555555556,
             "#d8576b"
            ],
            [
             0.6666666666666666,
             "#ed7953"
            ],
            [
             0.7777777777777778,
             "#fb9f3a"
            ],
            [
             0.8888888888888888,
             "#fdca26"
            ],
            [
             1,
             "#f0f921"
            ]
           ],
           "sequentialminus": [
            [
             0,
             "#0d0887"
            ],
            [
             0.1111111111111111,
             "#46039f"
            ],
            [
             0.2222222222222222,
             "#7201a8"
            ],
            [
             0.3333333333333333,
             "#9c179e"
            ],
            [
             0.4444444444444444,
             "#bd3786"
            ],
            [
             0.5555555555555556,
             "#d8576b"
            ],
            [
             0.6666666666666666,
             "#ed7953"
            ],
            [
             0.7777777777777778,
             "#fb9f3a"
            ],
            [
             0.8888888888888888,
             "#fdca26"
            ],
            [
             1,
             "#f0f921"
            ]
           ]
          },
          "colorway": [
           "#636efa",
           "#EF553B",
           "#00cc96",
           "#ab63fa",
           "#FFA15A",
           "#19d3f3",
           "#FF6692",
           "#B6E880",
           "#FF97FF",
           "#FECB52"
          ],
          "font": {
           "color": "#2a3f5f"
          },
          "geo": {
           "bgcolor": "white",
           "lakecolor": "white",
           "landcolor": "#E5ECF6",
           "showlakes": true,
           "showland": true,
           "subunitcolor": "white"
          },
          "hoverlabel": {
           "align": "left"
          },
          "hovermode": "closest",
          "mapbox": {
           "style": "light"
          },
          "paper_bgcolor": "white",
          "plot_bgcolor": "#E5ECF6",
          "polar": {
           "angularaxis": {
            "gridcolor": "white",
            "linecolor": "white",
            "ticks": ""
           },
           "bgcolor": "#E5ECF6",
           "radialaxis": {
            "gridcolor": "white",
            "linecolor": "white",
            "ticks": ""
           }
          },
          "scene": {
           "xaxis": {
            "backgroundcolor": "#E5ECF6",
            "gridcolor": "white",
            "gridwidth": 2,
            "linecolor": "white",
            "showbackground": true,
            "ticks": "",
            "zerolinecolor": "white"
           },
           "yaxis": {
            "backgroundcolor": "#E5ECF6",
            "gridcolor": "white",
            "gridwidth": 2,
            "linecolor": "white",
            "showbackground": true,
            "ticks": "",
            "zerolinecolor": "white"
           },
           "zaxis": {
            "backgroundcolor": "#E5ECF6",
            "gridcolor": "white",
            "gridwidth": 2,
            "linecolor": "white",
            "showbackground": true,
            "ticks": "",
            "zerolinecolor": "white"
           }
          },
          "shapedefaults": {
           "line": {
            "color": "#2a3f5f"
           }
          },
          "ternary": {
           "aaxis": {
            "gridcolor": "white",
            "linecolor": "white",
            "ticks": ""
           },
           "baxis": {
            "gridcolor": "white",
            "linecolor": "white",
            "ticks": ""
           },
           "bgcolor": "#E5ECF6",
           "caxis": {
            "gridcolor": "white",
            "linecolor": "white",
            "ticks": ""
           }
          },
          "title": {
           "x": 0.05
          },
          "xaxis": {
           "automargin": true,
           "gridcolor": "white",
           "linecolor": "white",
           "ticks": "",
           "title": {
            "standoff": 15
           },
           "zerolinecolor": "white",
           "zerolinewidth": 2
          },
          "yaxis": {
           "automargin": true,
           "gridcolor": "white",
           "linecolor": "white",
           "ticks": "",
           "title": {
            "standoff": 15
           },
           "zerolinecolor": "white",
           "zerolinewidth": 2
          }
         }
        },
        "xaxis": {
         "anchor": "y",
         "domain": [
          0,
          1
         ],
         "title": {
          "text": "ACILIS"
         }
        },
        "yaxis": {
         "anchor": "x",
         "domain": [
          0,
          1
         ]
        }
       }
      }
     },
     "metadata": {},
     "output_type": "display_data"
    }
   ],
   "source": [
    "import plotly.express as px\n",
    "fig = px.box(df,x='ACILIS')\n",
    "fig.show()\n",
    "\n"
   ]
  },
  {
   "cell_type": "code",
   "execution_count": null,
   "metadata": {},
   "outputs": [
    {
     "data": {
      "text/html": [
       "<div>\n",
       "<style scoped>\n",
       "    .dataframe tbody tr th:only-of-type {\n",
       "        vertical-align: middle;\n",
       "    }\n",
       "\n",
       "    .dataframe tbody tr th {\n",
       "        vertical-align: top;\n",
       "    }\n",
       "\n",
       "    .dataframe thead th {\n",
       "        text-align: right;\n",
       "    }\n",
       "</style>\n",
       "<table border=\"1\" class=\"dataframe\">\n",
       "  <thead>\n",
       "    <tr style=\"text-align: right;\">\n",
       "      <th></th>\n",
       "      <th>ENDEKS KODU</th>\n",
       "      <th>ACILIS</th>\n",
       "      <th>KAPANIS</th>\n",
       "      <th>EN YUKSEK</th>\n",
       "      <th>EN DUSUK</th>\n",
       "    </tr>\n",
       "  </thead>\n",
       "  <tbody>\n",
       "    <tr>\n",
       "      <th>1</th>\n",
       "      <td>XU100</td>\n",
       "      <td>3529.78</td>\n",
       "      <td>3553.43</td>\n",
       "      <td>3577.79</td>\n",
       "      <td>3521.6</td>\n",
       "    </tr>\n",
       "    <tr>\n",
       "      <th>2</th>\n",
       "      <td>XU100_CFNPTLUS</td>\n",
       "      <td>1113.77</td>\n",
       "      <td>1113.77</td>\n",
       "      <td>1113.77</td>\n",
       "      <td>1113.77</td>\n",
       "    </tr>\n",
       "    <tr>\n",
       "      <th>3</th>\n",
       "      <td>XU100_CFNPTLER</td>\n",
       "      <td>1343.32</td>\n",
       "      <td>1343.32</td>\n",
       "      <td>1343.32</td>\n",
       "      <td>1343.32</td>\n",
       "    </tr>\n",
       "    <tr>\n",
       "      <th>4</th>\n",
       "      <td>XU050</td>\n",
       "      <td>3129.39</td>\n",
       "      <td>3148.7</td>\n",
       "      <td>3169.61</td>\n",
       "      <td>3116.69</td>\n",
       "    </tr>\n",
       "    <tr>\n",
       "      <th>5</th>\n",
       "      <td>XU050_CFNPTLUS</td>\n",
       "      <td>986.91</td>\n",
       "      <td>986.91</td>\n",
       "      <td>986.91</td>\n",
       "      <td>986.91</td>\n",
       "    </tr>\n",
       "  </tbody>\n",
       "</table>\n",
       "</div>"
      ],
      "text/plain": [
       "      ENDEKS KODU   ACILIS  KAPANIS EN YUKSEK EN DUSUK\n",
       "1           XU100  3529.78  3553.43   3577.79   3521.6\n",
       "2  XU100_CFNPTLUS  1113.77  1113.77   1113.77  1113.77\n",
       "3  XU100_CFNPTLER  1343.32  1343.32   1343.32  1343.32\n",
       "4           XU050  3129.39   3148.7   3169.61  3116.69\n",
       "5  XU050_CFNPTLUS   986.91   986.91    986.91   986.91"
      ]
     },
     "execution_count": 135,
     "metadata": {},
     "output_type": "execute_result"
    }
   ],
   "source": [
    "df.head(5)\n"
   ]
  },
  {
   "cell_type": "code",
   "execution_count": null,
   "metadata": {},
   "outputs": [],
   "source": [
    "import matplotlib as mpl\n",
    "import matplotlib.pyplot as plt\n",
    "import numpy as np "
   ]
  },
  {
   "cell_type": "code",
   "execution_count": null,
   "metadata": {},
   "outputs": [],
   "source": [
    "df['ACILIS'] = df['ACILIS'].astype(float)\n",
    "\n",
    "x = df['ACILIS'].to_numpy()"
   ]
  },
  {
   "cell_type": "code",
   "execution_count": null,
   "metadata": {},
   "outputs": [
    {
     "data": {
      "text/plain": [
       "array([ 3529.78,  1113.77,  1343.32,  3129.39,   986.91,  1190.32,\n",
       "        3854.39,  1217.32,  1468.22,  2977.61,   935.87,  1128.76,\n",
       "        4801.28,  1518.62,  1831.62,  3905.57,  1230.52,  1484.13,\n",
       "        3043.12,   958.41,  1155.95,  3031.66,   954.95,  1151.77,\n",
       "        3041.97,   958.05,  1155.51,  6362.59,  2001.74,  2414.3 ,\n",
       "       10219.72,  3213.86,  3876.25,  3534.02,  1113.99,  1343.59,\n",
       "        3533.3 ,  1113.77,  1343.32,  3935.1 ,  1241.28,  1497.11,\n",
       "        3859.14,  1217.32,  1468.22,  3690.34,  1163.44,  1403.23,\n",
       "        9838.03,  3081.51,  3716.62, 30569.4 ,  9651.29, 11640.47,\n",
       "        6451.57,  2026.09,  2443.68,  3353.66,  1050.6 ,  1267.14,\n",
       "        4291.76,  1347.14,  1624.79,  3451.41,  1089.32,  1313.84,\n",
       "        3608.84,  1139.34,  1374.16,  3692.3 ,  1167.42,  1408.03,\n",
       "        3694.45,  1171.42,  1412.85,  3577.48,  1126.53,  1358.71,\n",
       "        2966.21,   930.41,  1122.17,  4113.44,  1292.6 ,  1559.01,\n",
       "        5718.42,  1797.57,  2168.06,  3727.06,  1157.79,  1396.41,\n",
       "        6694.67,  2123.54,  2561.21,  2901.94,   891.31,  1075.02,\n",
       "        8607.69,  2684.18,  3237.4 ,  7434.58,  2338.81,  2820.85,\n",
       "        3330.74,  1070.77,  1291.46,  3488.01,  1082.14,  1305.17,\n",
       "        2020.88,   636.48,   767.66,  3007.34,   950.98,  1146.99,\n",
       "         312.72,    99.74,   120.3 ,   605.64,   185.46,   223.69,\n",
       "        3860.32,  1205.84,  1454.37,  1495.88,   466.44,   562.58,\n",
       "        6626.6 ,  2089.92,  2520.67,   563.64,   179.33,   216.29,\n",
       "        9294.74,  2990.58,  3606.96,  3406.67,  1074.5 ,  1295.96,\n",
       "        3303.19,  1037.67,  1251.54,  7376.6 ,  2298.05,  2771.68,\n",
       "        1639.52,   529.72,   638.9 ,  3198.99,  1013.13,  1221.94,\n",
       "        1222.15,   385.06,   464.42, 13498.85,  4228.31,  5099.79,\n",
       "        1279.16,   398.43,   480.55,  3585.87,  1119.11,  1349.76,\n",
       "        5471.38,  1721.52,  2076.33,  1584.4 ,   501.22,   604.53,\n",
       "       64316.01, 21473.87, 25899.74,  4029.16,  1253.84,  1512.26,\n",
       "        6332.21,  2010.55,  2424.94,  2095.3 ,   666.17,   803.48,\n",
       "        5552.44,  1736.79,  2094.75,  7807.5 ,  2423.68,  2923.21,\n",
       "        5020.86,  1560.4 ,  1882.01,  4089.05,  1291.21,  1557.33,\n",
       "        7027.57,  2203.43,  2657.57, 18778.07,  5828.8 ,  7030.14,\n",
       "       11127.12,  3489.84,  4209.12,  4767.04,  1517.05,  1829.72,\n",
       "        1972.06,   624.22,   752.87, 20419.94,  6406.04,  7726.36])"
      ]
     },
     "execution_count": 138,
     "metadata": {},
     "output_type": "execute_result"
    }
   ],
   "source": [
    "x"
   ]
  },
  {
   "cell_type": "code",
   "execution_count": 154,
   "metadata": {},
   "outputs": [
    {
     "data": {
      "text/plain": [
       "(0.0, 10000.0)"
      ]
     },
     "execution_count": 154,
     "metadata": {},
     "output_type": "execute_result"
    },
    {
     "data": {
      "image/png": "[encoded data removed]",
      "text/plain": [
       "<Figure size 640x480 with 1 Axes>"
      ]
     },
     "metadata": {},
     "output_type": "display_data"
    }
   ],
   "source": [
    "plt.boxplot(x, vert=False)\n",
    "plt.xlim([0,10000])"
   ]
  }
 ],
 "metadata": {
  "kernelspec": {
   "display_name": "anaconda3",
   "language": "python",
   "name": "python3"
  },
  "language_info": {
   "codemirror_mode": {
    "name": "ipython",
    "version": 3
   },
   "file_extension": ".py",
   "mimetype": "text/x-python",
   "name": "python",
   "nbconvert_exporter": "python",
   "pygments_lexer": "ipython3",
   "version": "3.9.7"
  },
  "orig_nbformat": 4,
  "vscode": {
   "interpreter": {
    "hash": "f5f61564bdc7f53415b2b505550c56a4073778d531a25cde85da04c84ebb0b38"
   }
  }
 },
 "nbformat": 4,
 "nbformat_minor": 2
}
